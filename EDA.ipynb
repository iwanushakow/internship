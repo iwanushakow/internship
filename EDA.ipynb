{
 "cells": [
  {
   "cell_type": "code",
   "execution_count": 1,
   "metadata": {},
   "outputs": [],
   "source": [
    "from catboost import Pool, CatBoostClassifier\n",
    "from sklearn.model_selection import train_test_split\n",
    "from sklearn.metrics import roc_auc_score, accuracy_score, confusion_matrix, classification_report\n",
    "import os\n",
    "import pandas as pd\n",
    "from tqdm import tqdm\n",
    "import numpy as np\n",
    "import matplotlib.pyplot as plt\n"
   ]
  },
  {
   "cell_type": "markdown",
   "metadata": {},
   "source": [
    "### PARAMETERS"
   ]
  },
  {
   "cell_type": "code",
   "execution_count": 2,
   "metadata": {},
   "outputs": [],
   "source": [
    "PATH_TO_DATA = 'data/aclImdb/'"
   ]
  },
  {
   "cell_type": "markdown",
   "metadata": {
    "tags": []
   },
   "source": [
    "### Preparing data"
   ]
  },
  {
   "cell_type": "code",
   "execution_count": 3,
   "metadata": {},
   "outputs": [
    {
     "name": "stderr",
     "output_type": "stream",
     "text": [
      "100%|███████████████████████████████████████████████████████████████████████████| 12500/12500 [00:45<00:00, 274.85it/s]\n",
      "100%|███████████████████████████████████████████████████████████████████████████| 12500/12500 [00:45<00:00, 277.13it/s]\n",
      "100%|███████████████████████████████████████████████████████████████████████████| 12500/12500 [00:44<00:00, 280.47it/s]\n",
      "100%|███████████████████████████████████████████████████████████████████████████| 12500/12500 [00:45<00:00, 275.55it/s]"
     ]
    },
    {
     "name": "stdout",
     "output_type": "stream",
     "text": [
      "CPU times: total: 16.7 s\n",
      "Wall time: 3min\n"
     ]
    },
    {
     "name": "stderr",
     "output_type": "stream",
     "text": [
      "\n"
     ]
    }
   ],
   "source": [
    "%%time\n",
    "df = []\n",
    "for mood in ['pos', 'neg']:\n",
    "    for data_type in ['train', 'test']:\n",
    "        file_list = sorted(os.listdir(path=f'{PATH_TO_DATA}{data_type}/{mood}'), key=lambda x: int(x.split('_')[0]))\n",
    "        for file_name in tqdm(file_list):\n",
    "            df.append({'data_type': data_type,\n",
    "                       'mood': mood,\n",
    "                       'rating': int(file_name[file_name.index('_')+1:-4]),\n",
    "                       'text': open(f'{PATH_TO_DATA}{data_type}/{mood}/{file_name}', encoding='UTF-8').read()})\n",
    "df = pd.DataFrame(df)\n",
    "df = df.sample(df.shape[0], replace=False).reset_index(drop=True)"
   ]
  },
  {
   "cell_type": "code",
   "execution_count": 61,
   "metadata": {},
   "outputs": [
    {
     "data": {
      "text/plain": [
       "<BarContainer object of 8 artists>"
      ]
     },
     "execution_count": 61,
     "metadata": {},
     "output_type": "execute_result"
    },
    {
     "data": {
      "image/png": "[encoded data removed]",
      "text/plain": [
       "<Figure size 720x360 with 1 Axes>"
      ]
     },
     "metadata": {
      "needs_background": "light"
     },
     "output_type": "display_data"
    }
   ],
   "source": [
    "plt.figure(figsize=(10,5))\n",
    "plt.bar(x=df['rating'].value_counts().index, height=df['rating'].value_counts() ,tick_label=df['rating'].value_counts().index)"
   ]
  },
  {
   "cell_type": "code",
   "execution_count": 8,
   "metadata": {},
   "outputs": [],
   "source": [
    "plt.show()"
   ]
  },
  {
   "cell_type": "markdown",
   "metadata": {
    "tags": []
   },
   "source": [
    "### Dividing the data into train and test sets"
   ]
  },
  {
   "cell_type": "code",
   "execution_count": 14,
   "metadata": {},
   "outputs": [],
   "source": [
    "df['target'] = df['mood'].map({'neg': 0, 'pos': 1})\n",
    "df_train = df[df['data_type']=='train']\n",
    "df_test = df[df['data_type']=='test']"
   ]
  },
  {
   "cell_type": "markdown",
   "metadata": {
    "tags": []
   },
   "source": [
    "### Announcing the catboost model"
   ]
  },
  {
   "cell_type": "code",
   "execution_count": 62,
   "metadata": {},
   "outputs": [],
   "source": [
    "model = CatBoostClassifier(iterations=1000, depth=4, eval_metric='AUC', random_state=227)"
   ]
  },
  {
   "cell_type": "markdown",
   "metadata": {
    "tags": []
   },
   "source": [
    "### Training the model"
   ]
  },
  {
   "cell_type": "code",
   "execution_count": 63,
   "metadata": {},
   "outputs": [
    {
     "data": {
      "application/vnd.jupyter.widget-view+json": {
       "model_id": "2eb373f0f26c45e080eb6a123737e53c",
       "version_major": 2,
       "version_minor": 0
      },
      "text/plain": [
       "MetricVisualizer(layout=Layout(align_self='stretch', height='500px'))"
      ]
     },
     "metadata": {},
     "output_type": "display_data"
    },
    {
     "name": "stdout",
     "output_type": "stream",
     "text": [
      "CPU times: total: 45min 37s\n",
      "Wall time: 7min 10s\n"
     ]
    },
    {
     "data": {
      "text/plain": [
       "<catboost.core.CatBoostClassifier at 0x270d5535970>"
      ]
     },
     "execution_count": 63,
     "metadata": {},
     "output_type": "execute_result"
    }
   ],
   "source": [
    "%%time\n",
    "train_pool = Pool(data=df_train[['text']], label=df_train['rating'], text_features=['text'], has_header=True)\n",
    "valid_pool = Pool(data=df_test[['text']], label=df_test['rating'], text_features=['text'], has_header=True)\n",
    "model.fit(X=train_pool, eval_set=valid_pool, plot=True, verbose=False)"
   ]
  },
  {
   "cell_type": "markdown",
   "metadata": {},
   "source": [
    "### Prediction and result analisis"
   ]
  },
  {
   "cell_type": "code",
   "execution_count": 22,
   "metadata": {},
   "outputs": [],
   "source": [
    "pred = model.predict_proba(df_test[['text']])"
   ]
  },
  {
   "cell_type": "code",
   "execution_count": 23,
   "metadata": {},
   "outputs": [
    {
     "name": "stderr",
     "output_type": "stream",
     "text": [
      "C:\\Users\\ivanu\\AppData\\Local\\Temp\\ipykernel_16400\\2813471062.py:1: SettingWithCopyWarning: \n",
      "A value is trying to be set on a copy of a slice from a DataFrame.\n",
      "Try using .loc[row_indexer,col_indexer] = value instead\n",
      "\n",
      "See the caveats in the documentation: https://pandas.pydata.org/pandas-docs/stable/user_guide/indexing.html#returning-a-view-versus-a-copy\n",
      "  df_test['pred'] = list(map(lambda x: model.classes_[np.argmax(x)], pred))\n"
     ]
    }
   ],
   "source": [
    "df_test['pred'] = list(map(lambda x: model.classes_[np.argmax(x)], pred))"
   ]
  },
  {
   "cell_type": "code",
   "execution_count": 64,
   "metadata": {},
   "outputs": [],
   "source": [
    "# for i in df_test.index:\n",
    "#     if df_test['rating'][i] == 1 and df_test['pred'][i] == 10:\n",
    "#         print(df_test['text'][i])\n",
    "#         print()\n",
    "#         print()"
   ]
  },
  {
   "cell_type": "code",
   "execution_count": 48,
   "metadata": {},
   "outputs": [
    {
     "name": "stdout",
     "output_type": "stream",
     "text": [
      "              precision    recall  f1-score   support\n",
      "\n",
      "           1       0.54      0.81      0.65      5022\n",
      "           2       0.29      0.08      0.13      2302\n",
      "           3       0.31      0.16      0.21      2541\n",
      "           4       0.34      0.43      0.38      2635\n",
      "           7       0.35      0.31      0.33      2307\n",
      "           8       0.30      0.26      0.28      2850\n",
      "           9       0.33      0.06      0.10      2344\n",
      "          10       0.51      0.74      0.60      4999\n",
      "\n",
      "    accuracy                           0.44     25000\n",
      "   macro avg       0.37      0.36      0.34     25000\n",
      "weighted avg       0.40      0.44      0.40     25000\n",
      "\n",
      "Rating accuracy: 0.4446\n",
      "Mood accuracy:  0.87852\n",
      "[[4091  160  175  311   45   39   10  191]\n",
      " [1293  192  238  368   37   45    4  125]\n",
      " [ 941  152  402  717  109   65    9  146]\n",
      " [ 591  106  292 1128  235  124   12  147]\n",
      " [ 124   15   75  355  717  490   38  493]\n",
      " [ 133    9   59  241  475  747   82 1104]\n",
      " [  97    9   20  102  212  434  137 1333]\n",
      " [ 272   19   36  128  195  525  123 3701]]\n"
     ]
    },
    {
     "data": {
      "text/plain": [
       "0.87852"
      ]
     },
     "execution_count": 48,
     "metadata": {},
     "output_type": "execute_result"
    }
   ],
   "source": [
    "print(classification_report(df_test['rating'], df_test['pred'], labels=model.classes_))\n",
    "print('Rating accuracy:', accuracy_score(df_test['rating'], df_test['pred']))\n",
    "print('Mood accuracy: ', accuracy_score(df_test['target'], df_test['pred'].map(lambda x: 1 if x >= 7 else 0)))\n",
    "print(confusion_matrix(df_test['rating'], df_test['pred']))\n",
    "roc_auc_score(df_test['target'], df_test['pred'].map(lambda x: 1 if x >= 7 else 0))"
   ]
  },
  {
   "cell_type": "markdown",
   "metadata": {},
   "source": [
    "### Saving the model"
   ]
  },
  {
   "cell_type": "code",
   "execution_count": 10,
   "metadata": {},
   "outputs": [],
   "source": [
    "model.save_model('atom/atom/modelissimo', format=\"cbm\")"
   ]
  },
  {
   "cell_type": "code",
   "execution_count": null,
   "metadata": {},
   "outputs": [],
   "source": []
  }
 ],
 "metadata": {
  "kernelspec": {
   "display_name": "Python 3 (ipykernel)",
   "language": "python",
   "name": "python3"
  },
  "language_info": {
   "codemirror_mode": {
    "name": "ipython",
    "version": 3
   },
   "file_extension": ".py",
   "mimetype": "text/x-python",
   "name": "python",
   "nbconvert_exporter": "python",
   "pygments_lexer": "ipython3",
   "version": "3.8.8"
  }
 },
 "nbformat": 4,
 "nbformat_minor": 4
}
